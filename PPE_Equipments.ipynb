{
  "nbformat": 4,
  "nbformat_minor": 0,
  "metadata": {
    "colab": {
      "provenance": [],
      "authorship_tag": "ABX9TyNHDJkUqVD9AZwzh+h8ZK22",
      "include_colab_link": true
    },
    "kernelspec": {
      "name": "python3",
      "display_name": "Python 3"
    },
    "language_info": {
      "name": "python"
    }
  },
  "cells": [
    {
      "cell_type": "markdown",
      "metadata": {
        "id": "view-in-github",
        "colab_type": "text"
      },
      "source": [
        "<a href=\"https://colab.research.google.com/github/ShivamD26/CovidVaccine/blob/main/PPE_Equipments.ipynb\" target=\"_parent\"><img src=\"https://colab.research.google.com/assets/colab-badge.svg\" alt=\"Open In Colab\"/></a>"
      ]
    },
    {
      "cell_type": "code",
      "execution_count": null,
      "metadata": {
        "id": "RcSR20BSSVUf"
      },
      "outputs": [],
      "source": [
        "!pip install bing-image-downloader"
      ]
    },
    {
      "cell_type": "markdown",
      "source": [
        "!mkdir Gloves\n",
        "\n"
      ],
      "metadata": {
        "id": "V3Ol4BZ5S_TL"
      }
    },
    {
      "cell_type": "code",
      "source": [
        "from bing_image_downloader import downloader\n",
        "downloader.download('Servus Industrial Boots', limit=100,  output_dir='boots')"
      ],
      "metadata": {
        "id": "3gmiYE72Tmst"
      },
      "execution_count": null,
      "outputs": []
    },
    {
      "cell_type": "code",
      "source": [
        "!mkdir boots\n"
      ],
      "metadata": {
        "id": "QANmAzZjT48C"
      },
      "execution_count": 5,
      "outputs": []
    },
    {
      "cell_type": "code",
      "source": [
        "from bing_image_downloader import downloader\n",
        "downloader.download('Northern Rubber Boots', limit=100,  output_dir='boots')"
      ],
      "metadata": {
        "id": "SsZ2GDE_UiG6"
      },
      "execution_count": null,
      "outputs": []
    },
    {
      "cell_type": "code",
      "source": [
        "from bing_image_downloader import downloader\n",
        "downloader.download('Best Rubber Boots', limit=100,  output_dir='boots')"
      ],
      "metadata": {
        "id": "pKxET9IbUslz"
      },
      "execution_count": null,
      "outputs": []
    },
    {
      "cell_type": "code",
      "source": [
        "from bing_image_downloader import downloader\n",
        "downloader.download('hard hat', limit=100,  output_dir='hardhat')"
      ],
      "metadata": {
        "id": "7WK4TPTCVNY5"
      },
      "execution_count": null,
      "outputs": []
    },
    {
      "cell_type": "code",
      "source": [
        "from bing_image_downloader import downloader\n",
        "downloader.download('Hard Hat Types', limit=100,  output_dir='hardhat')"
      ],
      "metadata": {
        "id": "98nGtg0PVxoZ"
      },
      "execution_count": null,
      "outputs": []
    },
    {
      "cell_type": "code",
      "source": [
        "from bing_image_downloader import downloader\n",
        "downloader.download('Hard Hat Headlamp', limit=100,  output_dir='hardhat')"
      ],
      "metadata": {
        "id": "892JfZmHV2DP"
      },
      "execution_count": null,
      "outputs": []
    },
    {
      "cell_type": "code",
      "source": [
        "from bing_image_downloader import downloader\n",
        "downloader.download('Hard Hat Accessories', limit=100,  output_dir='hardhat')"
      ],
      "metadata": {
        "id": "Ph6sJBEiWNbh"
      },
      "execution_count": null,
      "outputs": []
    },
    {
      "cell_type": "code",
      "source": [
        "from bing_image_downloader import downloader\n",
        "downloader.download('Hard Hat Attachments', limit=100,  output_dir='hardhat')"
      ],
      "metadata": {
        "id": "KywJxKQDWxaQ"
      },
      "execution_count": null,
      "outputs": []
    },
    {
      "cell_type": "code",
      "source": [
        "from bing_image_downloader import downloader\n",
        "downloader.download('construction vest', limit=100,  output_dir='vest')"
      ],
      "metadata": {
        "id": "NvpxZ3xnXbtZ"
      },
      "execution_count": null,
      "outputs": []
    },
    {
      "cell_type": "code",
      "source": [
        "from bing_image_downloader import downloader\n",
        "downloader.download('Colored Safety Vests', limit=100,  output_dir='vest')"
      ],
      "metadata": {
        "id": "xVFqe90cYJzJ"
      },
      "execution_count": null,
      "outputs": []
    },
    {
      "cell_type": "code",
      "source": [
        "from bing_image_downloader import downloader\n",
        "downloader.download('Women\\'s Safety Vest', limit=100,  output_dir='vest')"
      ],
      "metadata": {
        "id": "l60P4qqwYaX_"
      },
      "execution_count": null,
      "outputs": []
    },
    {
      "cell_type": "code",
      "source": [
        "from bing_image_downloader import downloader\n",
        "downloader.download('Construction Work Gloves', limit=100,  output_dir='Gloves')"
      ],
      "metadata": {
        "id": "HIRqx3hMZDZ_"
      },
      "execution_count": null,
      "outputs": []
    },
    {
      "cell_type": "code",
      "source": [
        "from bing_image_downloader import downloader\n",
        "downloader.download('Insulated Rubber Gloves', limit=100,  output_dir='Gloves')"
      ],
      "metadata": {
        "id": "7LX-oG5eZSXO"
      },
      "execution_count": null,
      "outputs": []
    }
  ]
}